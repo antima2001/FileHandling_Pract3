{
 "cells": [
  {
   "cell_type": "markdown",
   "id": "0e9f306a",
   "metadata": {},
   "source": [
    "1. Write a Python program to read an entire text file"
   ]
  },
  {
   "cell_type": "code",
   "execution_count": 1,
   "id": "9dd7fa62",
   "metadata": {},
   "outputs": [
    {
     "name": "stdout",
     "output_type": "stream",
     "text": [
      "What is Python language?                                                \n",
      "Python is a widely used high-level, general-purpose, interpreted, dynamic programming language.Its design philosophy emphasizes code readability, and its syntax allows programmers to express concepts in fewer lines of code than possible in \n",
      "languages such as C++ or Java. \n",
      "Python supports multiple programming paradigms, including object-oriented, imperative and functional programming or procedural styles. It features a dynamic type system and automatic memory management and has a large and comprehensive standard library.The best way we learn anything is by practice and exercise questions. We  have started this section for those (beginner to intermediate) who are familiar with Python.\n"
     ]
    }
   ],
   "source": [
    "def file_read_antima(fname):\n",
    "    txt = open(fname)\n",
    "    print(txt.read())\n",
    "    \n",
    "file_read_antima('test.txt')\n"
   ]
  },
  {
   "cell_type": "code",
   "execution_count": null,
   "id": "8b844702",
   "metadata": {},
   "outputs": [],
   "source": [
    "2. Write a Python program to append text to a file and display the text."
   ]
  },
  {
   "cell_type": "code",
   "execution_count": 2,
   "id": "f9c1c879",
   "metadata": {},
   "outputs": [
    {
     "name": "stdout",
     "output_type": "stream",
     "text": [
      "Python Exercises\n",
      "Java Exercises\n"
     ]
    }
   ],
   "source": [
    "def file_read_antima(fname):\n",
    "    with open(fname, \"w\") as myfile:\n",
    "        myfile.write(\"Python Exercises\\n\")\n",
    "        myfile.write(\"Java Exercises\")\n",
    "    txt = open(fname)\n",
    "    print(txt.read())\n",
    "file_read_antima('abc.txt')\n"
   ]
  },
  {
   "cell_type": "markdown",
   "id": "1e69bf76",
   "metadata": {},
   "source": [
    "3. Write a Python program to read a file line by line and store it into a list."
   ]
  },
  {
   "cell_type": "code",
   "execution_count": 3,
   "id": "21a9171c",
   "metadata": {},
   "outputs": [
    {
     "name": "stdout",
     "output_type": "stream",
     "text": [
      "['What is Python language?                                                \\n', 'Python is a widely used high-level, general-purpose, interpreted, dynamic programming language.Its design philosophy emphasizes code readability, and its syntax allows programmers to express concepts in fewer lines of code than possible in \\n', 'languages such as C++ or Java. \\n', 'Python supports multiple programming paradigms, including object-oriented, imperative and functional programming or procedural styles. It features a dynamic type system and automatic memory management and has a large and comprehensive standard library.The best way we learn anything is by practice and exercise questions. We  have started this section for those (beginner to intermediate) who are familiar with Python.']\n"
     ]
    }
   ],
   "source": [
    "def file_read_antima(fname):\n",
    "    with open(fname) as f:\n",
    "        #Content_list is the list that contains the read lines.\n",
    "        content_list = f.readlines()\n",
    "        print(content_list)\n",
    "        \n",
    "file_read_antima('test.txt')\n"
   ]
  },
  {
   "cell_type": "markdown",
   "id": "20f865ae",
   "metadata": {},
   "source": [
    "4. Write a Python program to read a file line by line store it into a variable."
   ]
  },
  {
   "cell_type": "code",
   "execution_count": 2,
   "id": "39c8bb39",
   "metadata": {},
   "outputs": [
    {
     "name": "stdout",
     "output_type": "stream",
     "text": [
      "['What is Python language?                                                \\n', 'Python is a widely used high-level, general-purpose, interpreted, dynamic programming language.Its design philosophy emphasizes code readability, and its syntax allows programmers to express concepts in fewer lines of code than possible in \\n', 'languages such as C++ or Java. \\n', 'Python supports multiple programming paradigms, including object-oriented, imperative and functional programming or procedural styles. It features a dynamic type system and automatic memory management and has a large and comprehensive standard library.The best way we learn anything is by practice and exercise questions. We  have started this section for those (beginner to intermediate) who are familiar with Python.']\n"
     ]
    }
   ],
   "source": [
    "def file_read_antima(fname):\n",
    "    with open (fname, \"r\") as myfile:\n",
    "        data=myfile.readlines()\n",
    "        print(data)\n",
    "        \n",
    "file_read_antima('test.txt')\n"
   ]
  },
  {
   "cell_type": "markdown",
   "id": "6fef9176",
   "metadata": {},
   "source": [
    "5. Write a Python program to read a file line by line store it into an array."
   ]
  },
  {
   "cell_type": "code",
   "execution_count": 3,
   "id": "5196ef4e",
   "metadata": {},
   "outputs": [
    {
     "name": "stdout",
     "output_type": "stream",
     "text": [
      "['What is Python language?                                                \\n', 'Python is a widely used high-level, general-purpose, interpreted, dynamic programming language.Its design philosophy emphasizes code readability, and its syntax allows programmers to express concepts in fewer lines of code than possible in \\n', 'languages such as C++ or Java. \\n', 'Python supports multiple programming paradigms, including object-oriented, imperative and functional programming or procedural styles. It features a dynamic type system and automatic memory management and has a large and comprehensive standard library.The best way we learn anything is by practice and exercise questions. We  have started this section for those (beginner to intermediate) who are familiar with Python.']\n"
     ]
    }
   ],
   "source": [
    "def file_name_antima(fname):\n",
    "    content_array = []\n",
    "    with open(fname) as f:\n",
    "        #Content_list is the list that contains the read lines.\n",
    "        for line in f:\n",
    "            content_array.append(line)\n",
    "        print(content_array)\n",
    "        \n",
    "file_read_antima('test.txt')\n"
   ]
  },
  {
   "cell_type": "markdown",
   "id": "275cfe69",
   "metadata": {},
   "source": [
    "6. Write a Python program to find the longest words."
   ]
  },
  {
   "cell_type": "code",
   "execution_count": 6,
   "id": "7af58639",
   "metadata": {},
   "outputs": [
    {
     "name": "stdout",
     "output_type": "stream",
     "text": [
      "['general-purpose,', 'object-oriented,']\n"
     ]
    }
   ],
   "source": [
    "def longest_word_antima(filename):\n",
    "    with open(filename, 'r') as infile:\n",
    "        words = infile.read().split()\n",
    "    max_len = len(max(words, key=len))\n",
    "    return [word for word in words if len(word) == max_len]\n",
    "\n",
    "print(longest_word_antima('test.txt'))\n"
   ]
  },
  {
   "cell_type": "markdown",
   "id": "cb5581e3",
   "metadata": {},
   "source": [
    "7. Write a Python program to count the frequency of words in a file."
   ]
  },
  {
   "cell_type": "code",
   "execution_count": 7,
   "id": "2b334213",
   "metadata": {},
   "outputs": [
    {
     "name": "stdout",
     "output_type": "stream",
     "text": [
      "Number of words in the file : Counter({'and': 6, 'is': 3, 'Python': 3, 'a': 3, 'programming': 3, 'dynamic': 2, 'code': 2, 'to': 2, 'in': 2, 'or': 2, 'What': 1, 'language?': 1, 'widely': 1, 'used': 1, 'high-level,': 1, 'general-purpose,': 1, 'interpreted,': 1, 'language.Its': 1, 'design': 1, 'philosophy': 1, 'emphasizes': 1, 'readability,': 1, 'its': 1, 'syntax': 1, 'allows': 1, 'programmers': 1, 'express': 1, 'concepts': 1, 'fewer': 1, 'lines': 1, 'of': 1, 'than': 1, 'possible': 1, 'languages': 1, 'such': 1, 'as': 1, 'C++': 1, 'Java.': 1, 'supports': 1, 'multiple': 1, 'paradigms,': 1, 'including': 1, 'object-oriented,': 1, 'imperative': 1, 'functional': 1, 'procedural': 1, 'styles.': 1, 'It': 1, 'features': 1, 'type': 1, 'system': 1, 'automatic': 1, 'memory': 1, 'management': 1, 'has': 1, 'large': 1, 'comprehensive': 1, 'standard': 1, 'library.The': 1, 'best': 1, 'way': 1, 'we': 1, 'learn': 1, 'anything': 1, 'by': 1, 'practice': 1, 'exercise': 1, 'questions.': 1, 'We': 1, 'have': 1, 'started': 1, 'this': 1, 'section': 1, 'for': 1, 'those': 1, '(beginner': 1, 'intermediate)': 1, 'who': 1, 'are': 1, 'familiar': 1, 'with': 1, 'Python.': 1})\n"
     ]
    }
   ],
   "source": [
    "from collections import Counter\n",
    "\n",
    "def word_count_antima(fname):\n",
    "    with open(fname) as f:\n",
    "        return Counter(f.read().split())\n",
    "    \n",
    "print(\"Number of words in the file :\", word_count_antima(\"test.txt\"))\n"
   ]
  },
  {
   "cell_type": "markdown",
   "id": "4a17f09b",
   "metadata": {},
   "source": [
    "8. Write a Python program to assess if a file is closed or not."
   ]
  },
  {
   "cell_type": "code",
   "execution_count": 8,
   "id": "3dbccf6d",
   "metadata": {},
   "outputs": [
    {
     "name": "stdout",
     "output_type": "stream",
     "text": [
      "False\n",
      "True\n"
     ]
    }
   ],
   "source": [
    "f_antima = open('abc.txt','r')\n",
    "print(f_antima.closed)\n",
    "f_antima.close()\n",
    "print(f_antima.closed)\n"
   ]
  },
  {
   "cell_type": "code",
   "execution_count": null,
   "id": "5dd87db8",
   "metadata": {},
   "outputs": [],
   "source": []
  }
 ],
 "metadata": {
  "kernelspec": {
   "display_name": "Python 3 (ipykernel)",
   "language": "python",
   "name": "python3"
  },
  "language_info": {
   "codemirror_mode": {
    "name": "ipython",
    "version": 3
   },
   "file_extension": ".py",
   "mimetype": "text/x-python",
   "name": "python",
   "nbconvert_exporter": "python",
   "pygments_lexer": "ipython3",
   "version": "3.9.12"
  }
 },
 "nbformat": 4,
 "nbformat_minor": 5
}
